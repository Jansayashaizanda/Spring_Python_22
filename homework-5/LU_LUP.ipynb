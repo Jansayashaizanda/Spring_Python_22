{
 "cells": [
  {
   "cell_type": "markdown",
   "id": "47acf90c",
   "metadata": {},
   "source": [
    "# Пятое домашнее задание\n",
    "Полиенко Анастасия Николаевна, НПМбд-01-19 (вторая подгруппа)"
   ]
  },
  {
   "cell_type": "markdown",
   "id": "5b06fe3c",
   "metadata": {},
   "source": [
    "Целью данной домашней работы является изучение библиотеки numpy и применение её функций и методов для решения СЛАУ посредством LU- и LUP-разложений."
   ]
  },
  {
   "cell_type": "markdown",
   "id": "c7f2e4e4",
   "metadata": {},
   "source": [
    "Для начала необходимо импортировать библиотеку numpy, чтобы можно было её использовать.\n",
    "Также импортируем библиотеку scipu.linalg для проверки решений СЛАУ."
   ]
  },
  {
   "cell_type": "code",
   "execution_count": 123,
   "id": "a63415cc",
   "metadata": {},
   "outputs": [],
   "source": [
    "import numpy as np\n",
    "import scipy.linalg as sl"
   ]
  },
  {
   "cell_type": "markdown",
   "id": "1f3a4c16",
   "metadata": {},
   "source": [
    "Для начала реализуем функцию, которая будет менять местами строки матрицы. Она в дальшейшем будет использоваться в LUP-разложении."
   ]
  },
  {
   "cell_type": "code",
   "execution_count": 124,
   "id": "abd8fde4",
   "metadata": {},
   "outputs": [],
   "source": [
    "def switch(A,i,j):\n",
    "    '''\n",
    "    Меняет местами i-ую и j-ую строки в матрице А\n",
    "    '''\n",
    "    temp = np.copy(A[i])\n",
    "    A[i] = A[j]\n",
    "    A[j] = temp\n",
    "    return A"
   ]
  },
  {
   "cell_type": "markdown",
   "id": "fceec321",
   "metadata": {},
   "source": [
    "# LU-разложение"
   ]
  },
  {
   "cell_type": "markdown",
   "id": "d881db8e",
   "metadata": {},
   "source": [
    "$\\textbf{LU-разложение}$ разложение матрицы $A$ --- это представление матрицы $A$ в виде произведения $A = L U$, где $L$ --- нижняя треугольная матрица, $U$ --- верхняя треугольная матрица. \n",
    "\n",
    "LU-разложение существует только в том случае, когда матрица $A$ обратима, а все ведущие (угловые) миноры матрицы $A$ невырождены.\n",
    "\n",
    "Для получения LU-разложения необходимо к матрице $A$ приписать справа единичную матрицу $E$. Приводим матрицу $A | E$ к ступенчатому виду. Таким образом, получаем матрицу $U | L_0$, где $U$ --- верхняя треугольная матрица, а $L_0$ --- нижняя треугольная матрица.\n",
    "\n",
    "Заметим, что матрица $L_0$ приводит $A$ к ступенчатому виду: $L_0 A = U$. Тогда $A = L_0^{-1} U$. \n",
    "\n",
    "Обозначим $L = L_0^{-1}$. Таким образом, получаем разложение $A = L U$.\n",
    "\n",
    "Ниже представлена функция, находящая LU-разложение матрицы $А$."
   ]
  },
  {
   "cell_type": "code",
   "execution_count": 125,
   "id": "f57c5601",
   "metadata": {},
   "outputs": [],
   "source": [
    "def LU(A):\n",
    "    '''\n",
    "    Находит матрицы L и U для LU-разложения матрицы F\n",
    "    '''\n",
    "    N = len(A)\n",
    "    E = np.identity(N)\n",
    "    B = np.copy(A)\n",
    "    #приведение к ступенчатому виду матрицы A|E\n",
    "    for i in range(N - 1):\n",
    "        mult = np.array(B[(i + 1):,i] / (- B[i, i]))\n",
    "        mult = np.array([mult,]).T\n",
    "        B_add = mult.dot([B[i],])\n",
    "        E_add = mult.dot([E[i],])\n",
    "        B[(i + 1):] += B_add\n",
    "        E[(i + 1):] += E_add\n",
    "    U = np.copy(B)\n",
    "    L = np.linalg.inv(E)\n",
    "    return L, U"
   ]
  },
  {
   "cell_type": "markdown",
   "id": "16d3bb54",
   "metadata": {},
   "source": [
    "Пусть дана СЛАУ вида $A x = b$. С помощью LU-разложения её можно свести к $L U x = b$.\n",
    "\n",
    "Эта система может быть решена в два шага:\n",
    "\n",
    "1. Решается система $L y = b$, которая решается прямой подстановкой, т.к. $L$ --- нижняя треугольная матрица.\n",
    "\n",
    "2. Решается система $U x = y$, которая решается обратной подстановкой, т.к. $U$ --- верхняя треугольная матрица.\n",
    "\n",
    "Ниже представлена функция, находящая решение СЛАУ при помощи LU-разложения."
   ]
  },
  {
   "cell_type": "code",
   "execution_count": 126,
   "id": "cf7665f2",
   "metadata": {},
   "outputs": [],
   "source": [
    "def solve_LU(A,b):\n",
    "    '''\n",
    "    Находит решение СЛАУ Ax = b при помощи LU-разложения\n",
    "    '''\n",
    "    #проверки\n",
    "    if A.shape[0] != A.shape[1]:\n",
    "        return 'Матрица не квадратная'\n",
    "    if np.linalg.det(A) == 0:\n",
    "        return 'Матрица вырождена'\n",
    "    N = len(A)\n",
    "    for i in range(1, N):\n",
    "        if np.linalg.det(A[:i, :i]) == 0:\n",
    "            return 'Главный минор вырожден'\n",
    "    L, U = LU(A)\n",
    "    #решаем СЛАУ\n",
    "    y = np.zeros(N)\n",
    "    x = np.zeros(N)\n",
    "    #прямая подстановка\n",
    "    for i in range(N):\n",
    "        y[i] = b[i] - L[i].dot(y)\n",
    "    #обратная подстановка\n",
    "    for i in range(N - 1, -1, -1):\n",
    "        x[i] = (y[i] - U[i].dot(x)) / U[i, i]\n",
    "    return x             "
   ]
  },
  {
   "cell_type": "markdown",
   "id": "a8881efb",
   "metadata": {},
   "source": [
    "# LUP-разложение"
   ]
  },
  {
   "cell_type": "markdown",
   "id": "6bb4479d",
   "metadata": {},
   "source": [
    "$\\textbf{LUP-разложение}$ разложение матрицы $A$ --- это представление матрицы $A$ в виде произведения $P A = L U$, где $L$ --- нижняя треугольная матрица, $U$ --- верхняя треугольная матрица, $P$ --- матрица перестановокю\n",
    "\n",
    "В отличие от LU-разложения, LUP-разложение существует для любой невырожденной матрицы.\n",
    "\n",
    "Для получения LUP-разложения необходимо к матрице $A$ приписать справа единичную матрицу $E$. Приводим матрицу $A | E$ к ступенчатому виду с выбором наибольшего по модулю ведущего элемента. Таким образом, получаем матрицу $U | L_0$, где $U$ --- верхняя треугольная матрица.\n",
    "\n",
    "Т.к. при этом процессе могла понадобится перестановка строк, то введём $P A = A_1$, где $A_1$ --- матрица, для которой приведение к ступенчатому виду с выбором максимального по модулю не требует перестановок.\n",
    "\n",
    "В итоге также получаем матрицы $P$ и $L = P L_0^{-1}$, которые и приводят к искомому разложению $P A = L U$\n",
    "\n",
    "Ниже представлена функция, находящая LUP-разложение матрицы $А$."
   ]
  },
  {
   "cell_type": "code",
   "execution_count": 127,
   "id": "f545d08e",
   "metadata": {},
   "outputs": [],
   "source": [
    "def LUP(A):\n",
    "    '''\n",
    "    Находит матрицы L, U и P для LUP-разложения матрицы A\n",
    "    '''\n",
    "    N = len(A)\n",
    "    P = np.identity(N)\n",
    "    E = np.identity(N)\n",
    "    B = np.copy(A)\n",
    "    #приведение к ступенчатому виду матрицы A|E с учетом максимумов\n",
    "    for i in range(N - 1):\n",
    "        max_ind = np.argmax(abs(B[:, i]))\n",
    "        if i != max_ind:\n",
    "            B = switch(B, i, max_ind)\n",
    "            E = switch(E, i, max_ind)\n",
    "            P = switch(P, i, max_ind)\n",
    "        mult = np.array(B[(i + 1):,i] / (- B[i, i]))\n",
    "        mult = np.array([mult,]).T\n",
    "        B_add = mult.dot([B[i],])\n",
    "        E_add = mult.dot([E[i],])\n",
    "        B[(i + 1):] += B_add\n",
    "        E[(i + 1):] += E_add\n",
    "    U = np.copy(B)\n",
    "    L = P.dot(np.linalg.inv(E))\n",
    "    return L, U, P"
   ]
  },
  {
   "cell_type": "markdown",
   "id": "1a348ec0",
   "metadata": {},
   "source": [
    "Пусть дана СЛАУ вида $A x = b$. С помощью LUP-разложения, домножив левую и правую части на $P$, её можно свести к $L U x = P b$.\n",
    "\n",
    "Эта система может быть решена в два шага:\n",
    "\n",
    "1. Решается система $L y = P b$, которая решается прямой подстановкой, т.к. $L$ --- нижняя треугольная матрица.\n",
    "\n",
    "2. Решается система $U x = y$, которая решается обратной подстановкой, т.к. $U$ --- верхняя треугольная матрица.\n",
    "\n",
    "Ниже представлена функция, находящая решение СЛАУ при помощи LUP-разложения."
   ]
  },
  {
   "cell_type": "code",
   "execution_count": 128,
   "id": "f2dd5661",
   "metadata": {},
   "outputs": [],
   "source": [
    "def solve_LUP(A, b):\n",
    "    '''\n",
    "    Находит решение СЛАУ Ax = b при помощи LUP-разложения\n",
    "    '''\n",
    "    if A.shape[0] != A.shape[1]:\n",
    "        return 'Матрица не квадратная'\n",
    "    if np.linalg.det(A) == 0:\n",
    "        return 'Матрица вырождена'\n",
    "    N = len(A)\n",
    "    L, U, P = LUP(A)\n",
    "    #решаем СЛАУ\n",
    "    b = P.dot(b)\n",
    "    y = np.zeros(N)\n",
    "    x = np.zeros(N)\n",
    "    for i in range(N):\n",
    "        y[i] = b[i] - L[i].dot(y)\n",
    "    for i in range(N - 1, -1, -1):\n",
    "        x[i] = (y[i] - U[i].dot(x)) / U[i, i]\n",
    "    return x   "
   ]
  },
  {
   "cell_type": "markdown",
   "id": "689be2db",
   "metadata": {},
   "source": [
    "# Проверка решений"
   ]
  },
  {
   "cell_type": "markdown",
   "id": "ce56a7ea",
   "metadata": {},
   "source": [
    "Проверим, как работают написанные нами функции. Решим систему \n",
    "\\begin{equation*}\n",
    " \\begin{cases}\n",
    "   x_1 + 2 x_2 + x_3 = 0\\\\\n",
    "   2 x_1 + x_2 + x_3 = 1\\\\\n",
    "   x_1 - x_2 + 2 x_3 = 0\n",
    " \\end{cases}\n",
    "\\end{equation*}\n",
    "\n",
    "Её аналитическое решение: \n",
    "\\begin{equation*}\n",
    " \\begin{cases}\n",
    "   x_1 = \\frac{5}{6}\\\\\n",
    "   x_2 = -\\frac{1}{6}\\\\\n",
    "   x_3 = -\\frac{1}{2}\n",
    " \\end{cases}\n",
    "\\end{equation*}"
   ]
  },
  {
   "cell_type": "code",
   "execution_count": 129,
   "id": "803595bb",
   "metadata": {},
   "outputs": [],
   "source": [
    "matrix = np.array([[1.,2,1],[2,1,1],[1,-1,2]])\n",
    "vector = np.array([0.,1,0])"
   ]
  },
  {
   "cell_type": "code",
   "execution_count": 130,
   "id": "4d598c9a",
   "metadata": {
    "scrolled": false
   },
   "outputs": [
    {
     "name": "stdout",
     "output_type": "stream",
     "text": [
      "L = [[ 1. -0. -0.]\n",
      " [ 2.  1.  0.]\n",
      " [ 1.  1.  1.]]\n",
      "U =  [[ 1.  2.  1.]\n",
      " [ 0. -3. -1.]\n",
      " [ 0.  0.  2.]]\n",
      "x_1 = 0.8333333333333333\n",
      "x_2 = -0.16666666666666666\n",
      "x_3 = -0.5\n"
     ]
    }
   ],
   "source": [
    "L, U = LU(matrix)\n",
    "x = solve_LU(matrix,vector)\n",
    "print('L =', L)\n",
    "print('U = ', U)\n",
    "for i in range(len(matrix)):\n",
    "    print(f'x_{i + 1} = {x[i]}')"
   ]
  },
  {
   "cell_type": "code",
   "execution_count": 131,
   "id": "e522facb",
   "metadata": {
    "scrolled": true
   },
   "outputs": [
    {
     "name": "stdout",
     "output_type": "stream",
     "text": [
      "L = [[ 1.   0.   0. ]\n",
      " [ 0.5  1.   0. ]\n",
      " [ 0.5 -1.   1. ]]\n",
      "U = [[2.  1.  1. ]\n",
      " [0.  1.5 0.5]\n",
      " [0.  0.  2. ]]\n",
      "P = [[0. 1. 0.]\n",
      " [1. 0. 0.]\n",
      " [0. 0. 1.]]\n",
      "x_1 = 0.8333333333333333\n",
      "x_2 = -0.16666666666666666\n",
      "x_3 = -0.5\n"
     ]
    }
   ],
   "source": [
    "L, U, P = LUP(matrix)\n",
    "x = solve_LUP(matrix,vector)\n",
    "print('L =', L)\n",
    "print('U =', U)\n",
    "print('P =', P)\n",
    "for i in range(len(matrix)):\n",
    "    print(f'x_{i + 1} = {x[i]}')"
   ]
  },
  {
   "cell_type": "code",
   "execution_count": 132,
   "id": "b18c0f78",
   "metadata": {
    "scrolled": true
   },
   "outputs": [
    {
     "name": "stdout",
     "output_type": "stream",
     "text": [
      "L = [[ 1.   0.   0. ]\n",
      " [ 0.5  1.   0. ]\n",
      " [ 0.5 -1.   1. ]]\n",
      "U = [[2.  1.  1. ]\n",
      " [0.  1.5 0.5]\n",
      " [0.  0.  2. ]]\n",
      "P = [[0. 1. 0.]\n",
      " [1. 0. 0.]\n",
      " [0. 0. 1.]]\n",
      "x_1 = 0.8333333333333334\n",
      "x_2 = -0.16666666666666666\n",
      "x_3 = -0.5\n"
     ]
    }
   ],
   "source": [
    "x = sl.solve(matrix,vector)\n",
    "P, L, U = sl.lu(matrix)\n",
    "print('L =', L)\n",
    "print('U =', U)\n",
    "print('P =', P.T)\n",
    "for i in range(len(matrix)):\n",
    "    print(f'x_{i + 1} = {x[i]}')"
   ]
  },
  {
   "cell_type": "markdown",
   "id": "08834433",
   "metadata": {},
   "source": [
    "Можем увидеть, что написанные функции для решения СЛАУ посредством LU- и LUP-разложений работают верно, т.к. ответы сходятся и с решением, вычисленным через библиотеку scipy, и с аналитическим решением.\n",
    "\n",
    "Так же через библиотеку scipy можем проверить правильность нахождения L, U и P матриц LUP-разложения."
   ]
  },
  {
   "cell_type": "markdown",
   "id": "5c5d5dad",
   "metadata": {},
   "source": [
    "Однако существуют случаи, когда решение СЛАУ невозможно методом LU-разложения. \n",
    "\n",
    "Решим систему \n",
    "\\begin{equation*}\n",
    " \\begin{cases}\n",
    "   x_1 + 2 x_3 = 0\\\\\n",
    "   3 x_1 + 2 x_3 = 1\\\\\n",
    "   x_1 + 2 x_2 + 4 x_3 = 0\n",
    " \\end{cases}\n",
    "\\end{equation*}\n",
    "\n",
    "Её аналитическое решение: \n",
    "\\begin{equation*}\n",
    " \\begin{cases}\n",
    "   x_1 = \\frac{1}{2}\\\\\n",
    "   x_2 = \\frac{1}{4}\\\\\n",
    "   x_3 = -\\frac{1}{4}\n",
    " \\end{cases}\n",
    "\\end{equation*}"
   ]
  },
  {
   "cell_type": "markdown",
   "id": "42ff671c",
   "metadata": {},
   "source": [
    "При попытке найти LU-разложение случилась бы ситуация, при которой пришлось бы делить на ноль. Поэтому найти решение таким способом невозможно. Но для LUP-разложения этого не возникает."
   ]
  },
  {
   "cell_type": "code",
   "execution_count": 133,
   "id": "a50fb78c",
   "metadata": {},
   "outputs": [],
   "source": [
    "matrix = np.array([[1.,0,2],[3,0,2],[1,2,4]])\n",
    "vector = np.array([0.,1,0])"
   ]
  },
  {
   "cell_type": "code",
   "execution_count": 134,
   "id": "6390cb3b",
   "metadata": {},
   "outputs": [
    {
     "data": {
      "text/plain": [
       "'Главный минор вырожден'"
      ]
     },
     "execution_count": 134,
     "metadata": {},
     "output_type": "execute_result"
    }
   ],
   "source": [
    "solve_LU(matrix,vector)"
   ]
  },
  {
   "cell_type": "code",
   "execution_count": 135,
   "id": "0f23b0f5",
   "metadata": {},
   "outputs": [
    {
     "name": "stdout",
     "output_type": "stream",
     "text": [
      "L = [[1.         0.         0.        ]\n",
      " [0.33333333 1.         0.        ]\n",
      " [0.33333333 0.         1.        ]]\n",
      "U = [[3.         0.         2.        ]\n",
      " [0.         2.         3.33333333]\n",
      " [0.         0.         1.33333333]]\n",
      "P = [[0. 1. 0.]\n",
      " [0. 0. 1.]\n",
      " [1. 0. 0.]]\n",
      "x_1 = 0.5\n",
      "x_2 = 0.24999999999999997\n",
      "x_3 = -0.24999999999999997\n"
     ]
    }
   ],
   "source": [
    "L, U, P = LUP(matrix)\n",
    "x = solve_LUP(matrix,vector)\n",
    "print('L =', L)\n",
    "print('U =', U)\n",
    "print('P =', P)\n",
    "for i in range(len(matrix)):\n",
    "    print(f'x_{i + 1} = {x[i]}')"
   ]
  },
  {
   "cell_type": "code",
   "execution_count": 136,
   "id": "0c6f5ca2",
   "metadata": {},
   "outputs": [
    {
     "name": "stdout",
     "output_type": "stream",
     "text": [
      "L = [[1.         0.         0.        ]\n",
      " [0.33333333 1.         0.        ]\n",
      " [0.33333333 0.         1.        ]]\n",
      "U = [[3.         0.         2.        ]\n",
      " [0.         2.         3.33333333]\n",
      " [0.         0.         1.33333333]]\n",
      "P = [[0. 1. 0.]\n",
      " [0. 0. 1.]\n",
      " [1. 0. 0.]]\n",
      "x_1 = 0.5\n",
      "x_2 = 0.24999999999999997\n",
      "x_3 = -0.24999999999999997\n"
     ]
    }
   ],
   "source": [
    "sl.solve(matrix,vector)\n",
    "P, L, U = sl.lu(matrix)\n",
    "print('L =', L)\n",
    "print('U =', U)\n",
    "print('P =', P.T)\n",
    "for i in range(len(matrix)):\n",
    "    print(f'x_{i + 1} = {x[i]}')"
   ]
  }
 ],
 "metadata": {
  "kernelspec": {
   "display_name": "Python 3",
   "language": "python",
   "name": "python3"
  },
  "language_info": {
   "codemirror_mode": {
    "name": "ipython",
    "version": 3
   },
   "file_extension": ".py",
   "mimetype": "text/x-python",
   "name": "python",
   "nbconvert_exporter": "python",
   "pygments_lexer": "ipython3",
   "version": "3.8.8"
  }
 },
 "nbformat": 4,
 "nbformat_minor": 5
}
