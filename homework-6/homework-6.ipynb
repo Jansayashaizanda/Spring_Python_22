{
 "cells": [
  {
   "cell_type": "markdown",
   "metadata": {},
   "source": [
    "## 6-е домашнее задание - Библиотека numpy\n",
    "\n",
    "<b>Выполнила:</b> Полиенко Анастасия Николаевна, НПМбд-01-19 (вторая подгруппа)\n"
   ]
  },
  {
   "cell_type": "code",
   "execution_count": 116,
   "metadata": {},
   "outputs": [],
   "source": [
    "import numpy as np"
   ]
  },
  {
   "cell_type": "markdown",
   "metadata": {},
   "source": [
    "1.\tСоздайте равномерное разбиение интервала от -1.3 до 2.5 на 64 отрезка."
   ]
  },
  {
   "cell_type": "code",
   "execution_count": 117,
   "metadata": {},
   "outputs": [
    {
     "data": {
      "text/plain": [
       "array([-1.3       , -1.23968254, -1.17936508, -1.11904762, -1.05873016,\n",
       "       -0.9984127 , -0.93809524, -0.87777778, -0.81746032, -0.75714286,\n",
       "       -0.6968254 , -0.63650794, -0.57619048, -0.51587302, -0.45555556,\n",
       "       -0.3952381 , -0.33492063, -0.27460317, -0.21428571, -0.15396825,\n",
       "       -0.09365079, -0.03333333,  0.02698413,  0.08730159,  0.14761905,\n",
       "        0.20793651,  0.26825397,  0.32857143,  0.38888889,  0.44920635,\n",
       "        0.50952381,  0.56984127,  0.63015873,  0.69047619,  0.75079365,\n",
       "        0.81111111,  0.87142857,  0.93174603,  0.99206349,  1.05238095,\n",
       "        1.11269841,  1.17301587,  1.23333333,  1.29365079,  1.35396825,\n",
       "        1.41428571,  1.47460317,  1.53492063,  1.5952381 ,  1.65555556,\n",
       "        1.71587302,  1.77619048,  1.83650794,  1.8968254 ,  1.95714286,\n",
       "        2.01746032,  2.07777778,  2.13809524,  2.1984127 ,  2.25873016,\n",
       "        2.31904762,  2.37936508,  2.43968254,  2.5       ])"
      ]
     },
     "execution_count": 117,
     "metadata": {},
     "output_type": "execute_result"
    }
   ],
   "source": [
    "np.linspace(-1.3, 2.5, 64)"
   ]
  },
  {
   "cell_type": "markdown",
   "metadata": {},
   "source": [
    "2.\tСгенерируйте numpy массив длины $3n$, заполненный циклически числами 1, 2, 3, 1, 2, 3, 1...."
   ]
  },
  {
   "cell_type": "code",
   "execution_count": 118,
   "metadata": {},
   "outputs": [
    {
     "data": {
      "text/plain": [
       "array([1, 2, 3, 1, 2, 3, 1, 2, 3, 1, 2, 3, 1, 2, 3, 1, 2, 3, 1, 2, 3, 1,\n",
       "       2, 3, 1, 2, 3, 1, 2, 3])"
      ]
     },
     "execution_count": 118,
     "metadata": {},
     "output_type": "execute_result"
    }
   ],
   "source": [
    "n = 10\n",
    "np.tile([1, 2, 3], n)"
   ]
  },
  {
   "cell_type": "markdown",
   "metadata": {},
   "source": [
    "3.\tСоздайте массив первых 10 нечетных целых чисел."
   ]
  },
  {
   "cell_type": "code",
   "execution_count": 119,
   "metadata": {},
   "outputs": [
    {
     "data": {
      "text/plain": [
       "array([ 1,  3,  5,  7,  9, 11, 13, 15, 17, 19])"
      ]
     },
     "execution_count": 119,
     "metadata": {},
     "output_type": "execute_result"
    }
   ],
   "source": [
    "np.arange(1, 20, 2)"
   ]
  },
  {
   "cell_type": "markdown",
   "metadata": {},
   "source": [
    "4.  Создайте массив нулей размера 10 x 10, а затем создайте в нём \"рамку\" из единиц по краям."
   ]
  },
  {
   "cell_type": "code",
   "execution_count": 120,
   "metadata": {},
   "outputs": [
    {
     "name": "stdout",
     "output_type": "stream",
     "text": [
      "[[1. 1. 1. 1. 1. 1. 1. 1. 1. 1.]\n",
      " [1. 0. 0. 0. 0. 0. 0. 0. 0. 1.]\n",
      " [1. 0. 0. 0. 0. 0. 0. 0. 0. 1.]\n",
      " [1. 0. 0. 0. 0. 0. 0. 0. 0. 1.]\n",
      " [1. 0. 0. 0. 0. 0. 0. 0. 0. 1.]\n",
      " [1. 0. 0. 0. 0. 0. 0. 0. 0. 1.]\n",
      " [1. 0. 0. 0. 0. 0. 0. 0. 0. 1.]\n",
      " [1. 0. 0. 0. 0. 0. 0. 0. 0. 1.]\n",
      " [1. 0. 0. 0. 0. 0. 0. 0. 0. 1.]\n",
      " [1. 1. 1. 1. 1. 1. 1. 1. 1. 1.]]\n"
     ]
    }
   ],
   "source": [
    "A = np.zeros((10, 10))\n",
    "A[:, 0] = 1; A[0, :] = 1; A[:, -1] = 1; A[-1, :] = 1\n",
    "print(A)"
   ]
  },
  {
   "cell_type": "markdown",
   "metadata": {},
   "source": [
    "5.  Создайте массив 8 x 8 с шахматной доской из нулей и единиц."
   ]
  },
  {
   "cell_type": "code",
   "execution_count": 121,
   "metadata": {},
   "outputs": [
    {
     "name": "stdout",
     "output_type": "stream",
     "text": [
      "[[1. 0. 1. 0. 1. 0. 1. 0.]\n",
      " [0. 1. 0. 1. 0. 1. 0. 1.]\n",
      " [1. 0. 1. 0. 1. 0. 1. 0.]\n",
      " [0. 1. 0. 1. 0. 1. 0. 1.]\n",
      " [1. 0. 1. 0. 1. 0. 1. 0.]\n",
      " [0. 1. 0. 1. 0. 1. 0. 1.]\n",
      " [1. 0. 1. 0. 1. 0. 1. 0.]\n",
      " [0. 1. 0. 1. 0. 1. 0. 1.]]\n"
     ]
    }
   ],
   "source": [
    "A = np.zeros((8,8))\n",
    "A[::2,::2] = 1\n",
    "A[1::2,1::2] = 1\n",
    "print(A)"
   ]
  },
  {
   "cell_type": "markdown",
   "metadata": {},
   "source": [
    "6.  Создайте функцию, которая создает $n×n$ матрицу с $(i,j)$-элементом, равным $i+j$."
   ]
  },
  {
   "cell_type": "code",
   "execution_count": 122,
   "metadata": {},
   "outputs": [
    {
     "data": {
      "text/plain": [
       "array([[ 0.,  1.,  2.,  3.,  4.,  5.],\n",
       "       [ 1.,  2.,  3.,  4.,  5.,  6.],\n",
       "       [ 2.,  3.,  4.,  5.,  6.,  7.],\n",
       "       [ 3.,  4.,  5.,  6.,  7.,  8.],\n",
       "       [ 4.,  5.,  6.,  7.,  8.,  9.],\n",
       "       [ 5.,  6.,  7.,  8.,  9., 10.]])"
      ]
     },
     "execution_count": 122,
     "metadata": {},
     "output_type": "execute_result"
    }
   ],
   "source": [
    "def make_matrix(n):\n",
    "    A = np.zeros((n, n))\n",
    "    for i in range(n):\n",
    "        A[i] = np.arange(i, i + n)\n",
    "    return A\n",
    "make_matrix(6)"
   ]
  },
  {
   "cell_type": "markdown",
   "metadata": {},
   "source": [
    "7. Примените функцию dot для перемножения вектор на вектор, матрицу на вектор и матрицу на матрицу."
   ]
  },
  {
   "cell_type": "code",
   "execution_count": 123,
   "metadata": {},
   "outputs": [
    {
     "name": "stdout",
     "output_type": "stream",
     "text": [
      "V1 · V2 = 100\n",
      "V1 · A = [186 202 218 234 250]\n",
      "A · B = [[105  90  75]\n",
      " [330 290 250]\n",
      " [555 490 425]\n",
      " [780 690 600]]\n"
     ]
    }
   ],
   "source": [
    "V1 = np.arange(1,8,2)\n",
    "V2 = np.arange(2,10,2)\n",
    "A = np.arange(1,21).reshape(4,5)\n",
    "B = np.arange(15,0,-1).reshape(5,3)\n",
    "print('V1 · V2 =', V1.dot(V2))\n",
    "print('V1 · A =', V1.dot(A))\n",
    "print('A · B =', A.dot(B))"
   ]
  },
  {
   "cell_type": "markdown",
   "metadata": {},
   "source": [
    "8. Вычислите cos(x) и sin(x) на интервале [0,1] с шагом $0.05$, а затем объедините оба массива чисел как строки в один массив."
   ]
  },
  {
   "cell_type": "code",
   "execution_count": 124,
   "metadata": {},
   "outputs": [
    {
     "data": {
      "text/plain": [
       "array(['[1.         0.99875026 0.99500417 0.98877108 0.98006658 0.96891242\\n 0.95533649 0.93937271 0.92106099 0.9004471  0.87758256 0.85252452\\n 0.82533561 0.7960838  0.76484219 0.73168887 0.69670671 0.65998315\\n 0.62160997 0.58168309 0.54030231]',\n",
       "       '[0.         0.04997917 0.09983342 0.14943813 0.19866933 0.24740396\\n 0.29552021 0.34289781 0.38941834 0.43496553 0.47942554 0.52268723\\n 0.56464247 0.60518641 0.64421769 0.68163876 0.71735609 0.75128041\\n 0.78332691 0.8134155  0.84147098]'],\n",
       "      dtype='<U235')"
      ]
     },
     "execution_count": 124,
     "metadata": {},
     "output_type": "execute_result"
    }
   ],
   "source": [
    "x = np.linspace(0,1,21)\n",
    "cos_array = np.cos(x)\n",
    "sin_array = np.sin(x)\n",
    "np.array([np.array_str(cos_array), np.array_str(sin_array)])"
   ]
  },
  {
   "cell_type": "markdown",
   "metadata": {},
   "source": [
    "9. Создайте матрицу $A$ размера $3×5$ из случайных чисел с равномерным распределением на отрезке $[-1,3]$ (используйте np.random.rand)"
   ]
  },
  {
   "cell_type": "code",
   "execution_count": 125,
   "metadata": {},
   "outputs": [
    {
     "data": {
      "text/plain": [
       "array([[-0.25165316,  1.97094833, -0.9982146 ,  0.20939956, -0.72993246],\n",
       "       [-0.60967558,  0.94428884, -0.09269564,  1.45871169,  2.02733296],\n",
       "       [ 0.22643795,  1.65388063,  2.09138058, -0.99688147, -0.01581007]])"
      ]
     },
     "execution_count": 125,
     "metadata": {},
     "output_type": "execute_result"
    }
   ],
   "source": [
    "4 * np.random.rand(3,5) - 1"
   ]
  },
  {
   "cell_type": "markdown",
   "metadata": {},
   "source": [
    "10. Найдите сумму всех элементов, сумму внутри строк, сумму внутри столбцов, а также среднее значение, дисперсию и стандартное отклонение чисел для каждой строки матрицы $A$. (Подобно тому, как sorted имеет необязательный аргумент key=, многие функции Numpy имеют необязательный аргумент axis=)\n"
   ]
  },
  {
   "cell_type": "code",
   "execution_count": 126,
   "metadata": {},
   "outputs": [
    {
     "name": "stdout",
     "output_type": "stream",
     "text": [
      "Сумма всех элементов: 188\n",
      "Сумма по строкам: [59 48 35 46]\n",
      "Сумма по стоблцам: [11 28 66 40 43]\n",
      "Среднее по строкам: [11.8  9.6  7.   9.2]\n",
      "Дисперсия по строкам: [32.56 28.64 20.8  24.16]\n",
      "Стандартное отклонение по строкам: [5.70613705 5.35163526 4.5607017  4.91528229]\n"
     ]
    }
   ],
   "source": [
    "A = np.array([[3, 7, 16, 16, 17],\n",
    "              [5, 4, 19, 9, 11],\n",
    "              [1, 10, 14, 4, 6],\n",
    "              [2, 7, 17, 11, 9]])\n",
    "print('Сумма всех элементов:', np.sum(A))\n",
    "print('Сумма по строкам:', np.sum(A, axis = 1))\n",
    "print('Сумма по стоблцам:', np.sum(A, axis = 0))\n",
    "print('Среднее по строкам:', np.mean(A, axis = 1))\n",
    "print('Дисперсия по строкам:', np.var(A, axis = 1))\n",
    "print('Стандартное отклонение по строкам:', np.sqrt(np.var(A, axis = 1)))"
   ]
  },
  {
   "cell_type": "markdown",
   "metadata": {},
   "source": [
    "11.  Отнимите от каждого элемента матрицы $A$ среднее по строке и поделите на стандартное отклонение строки."
   ]
  },
  {
   "cell_type": "code",
   "execution_count": 127,
   "metadata": {},
   "outputs": [
    {
     "data": {
      "text/plain": [
       "array([[-1.5421992 , -0.84119956,  0.73604962,  0.73604962,  0.91129953],\n",
       "       [-0.85955036, -1.04640913,  1.75647247, -0.11211526,  0.26160228],\n",
       "       [-1.31558703,  0.65779351,  1.53485153, -0.65779351, -0.2192645 ],\n",
       "       [-1.46481923, -0.44758365,  1.58688749,  0.36620481, -0.04068942]])"
      ]
     },
     "execution_count": 127,
     "metadata": {},
     "output_type": "execute_result"
    }
   ],
   "source": [
    "(A - np.array([np.mean(A, axis = 1),]).T) / np.array([np.sqrt(np.var(A, axis = 1)),]).T"
   ]
  },
  {
   "cell_type": "markdown",
   "metadata": {},
   "source": [
    "12. Отсортируйте матрицу $A$ по 3-ому столбцу, т.е. поменяйте местами строки матрицы так, чтобы 3-й столбец оказался отсортированным. Используйте для этого slicing + argsort + indexing."
   ]
  },
  {
   "cell_type": "code",
   "execution_count": 128,
   "metadata": {},
   "outputs": [
    {
     "data": {
      "text/plain": [
       "array([[ 1, 10, 14,  4,  6],\n",
       "       [ 3,  7, 16, 16, 17],\n",
       "       [ 2,  7, 17, 11,  9],\n",
       "       [ 5,  4, 19,  9, 11]])"
      ]
     },
     "execution_count": 128,
     "metadata": {},
     "output_type": "execute_result"
    }
   ],
   "source": [
    "A[np.argsort(A[:, 2])]"
   ]
  },
  {
   "cell_type": "markdown",
   "metadata": {},
   "source": [
    "13. Посчитайте две матрицы: $B = A^TA$ и $C = AA^T$. Что вы можете о них сказать? Какого они размера? В чём их сходство и отличие?"
   ]
  },
  {
   "cell_type": "code",
   "execution_count": 129,
   "metadata": {},
   "outputs": [
    {
     "name": "stdout",
     "output_type": "stream",
     "text": [
      "B = [[  39   65  191  119  130]\n",
      " [  65  214  447  265  286]\n",
      " [ 191  447 1102  670  718]\n",
      " [ 119  265  670  474  494]\n",
      " [ 130  286  718  494  527]]\n",
      "Размер B: 5x5\n",
      "C = [[859 678 463 656]\n",
      " [678 604 413 559]\n",
      " [463 413 349 408]\n",
      " [656 559 408 544]]\n",
      "Размер C: 4x4\n"
     ]
    },
    {
     "data": {
      "text/plain": [
       "'У матриц В и С разные размерности, но они обе квадратные'"
      ]
     },
     "execution_count": 129,
     "metadata": {},
     "output_type": "execute_result"
    }
   ],
   "source": [
    "B = A.T.dot(A)\n",
    "print('B =', B)\n",
    "print('Размер B:', end = ' ')\n",
    "print(*B.shape, sep = 'x')\n",
    "C = A.dot(A.T)\n",
    "print('C =', C)\n",
    "print('Размер C:', end = ' ')\n",
    "print(*C.shape, sep = 'x')\n",
    "f'У матриц В и С разные размерности, но они обе квадратные'"
   ]
  },
  {
   "cell_type": "markdown",
   "metadata": {},
   "source": [
    "14. Найдите сумму диагональных элементов матриц $B$ и $C$."
   ]
  },
  {
   "cell_type": "code",
   "execution_count": 130,
   "metadata": {},
   "outputs": [
    {
     "name": "stdout",
     "output_type": "stream",
     "text": [
      "Сумма диагональных элементов B: 2356\n",
      "Сумма диагональных элементов C: 2356\n"
     ]
    }
   ],
   "source": [
    "print('Сумма диагональных элементов B:', sum(np.diag(B)))\n",
    "print('Сумма диагональных элементов C:', sum(np.diag(C)))"
   ]
  },
  {
   "cell_type": "markdown",
   "metadata": {},
   "source": [
    "15.\tПосчитайте детерминант и ранг матриц $A$, $B$ и $C$, посмотрите на спектр (набор собственных значений) матриц $B$ и $C$, какие выводы вы можете сделать?  \n",
    "(подсказка: используйте готовые функции из библиотеки np.linalg). \n"
   ]
  },
  {
   "cell_type": "code",
   "execution_count": 131,
   "metadata": {},
   "outputs": [
    {
     "name": "stdout",
     "output_type": "stream",
     "text": [
      "Ранг матрицы A: 4 Определитель матрицы А: не определён\n",
      "Ранг матрицы B: 4 Определитель матрицы B: 4.1380531001777986e-08\n",
      "Ранг матрицы C: 4 Определитель матрицы C: 32454882.000000022\n",
      "Спектр матрицы А: не определён\n",
      "Спектр матрицы B: 2240.7682403991225 79.11759560655446 30.01497611684876 7.260385389093256e-16 6.099187877474743\n",
      "Спектр матрицы C: 2240.7682403991225 79.1175956065545 30.01497611684866 6.099187877474759\n"
     ]
    },
    {
     "data": {
      "text/plain": [
       "'У матриц B и С совпадают собственные значения'"
      ]
     },
     "execution_count": 131,
     "metadata": {},
     "output_type": "execute_result"
    }
   ],
   "source": [
    "def check_det(matrix):\n",
    "    if matrix.shape[0] != matrix.shape[1]:\n",
    "        return 'не определён'\n",
    "    return np.linalg.det(matrix)\n",
    "def check_eig(matrix):\n",
    "    if matrix.shape[0] != matrix.shape[1]:\n",
    "        return 'не определён'\n",
    "    v, w = np.linalg.eig(matrix)\n",
    "    return v\n",
    "\n",
    "print('Ранг матрицы A:', np.linalg.matrix_rank(A), 'Определитель матрицы А:', check_det(A))\n",
    "print('Ранг матрицы B:', np.linalg.matrix_rank(B), 'Определитель матрицы B:', check_det(B))\n",
    "print('Ранг матрицы C:', np.linalg.matrix_rank(C), 'Определитель матрицы C:', check_det(C))\n",
    "print('Спектр матрицы А:', check_eig(A))\n",
    "print('Спектр матрицы B:', *check_eig(B))\n",
    "print('Спектр матрицы C:', *check_eig(C))\n",
    "\n",
    "f'У матриц B и С совпадают собственные значения'"
   ]
  },
  {
   "cell_type": "markdown",
   "metadata": {},
   "source": [
    "16. Численно посчитать определённый интеграл  3-мя методами:  \n",
    "a)\tПрямоугольников $\\int\\limits_a^b {f(x)dx \\approx \\Delta x\\sum\\limits_{k = 0}^N {f({x_k})} }$  \n",
    "b)\tТрапеций $\\int\\limits_a^b {f(x)dx \\approx \\frac{{\\Delta x}}{2}\\left( {f({x_0}) + 2\\sum\\limits_{k = 1}^{N - 1} {f({x_k})}  + f({x_N})} \\right)}$  \n",
    "c)\tПо правилу Симпсона  $\\int\\limits_a^b {f(x)dx \\approx \\frac{{\\Delta x}}{3}\\left( {f({x_0}) + 2\\sum\\limits_{k = 1}^{N/2 - 1} {f({x_{2k}})}  + 4\\sum\\limits_{k = 1}^{N/2} {f({x_{2k - 1}})}  + f({x_N})} \\right)}$  \n",
    "\n",
    "\n",
    "В реализации этих методов цикл for для суммирования использовать нельзя.  \n",
    "Нужно посчитать значение интеграла с некоторым шагом интегрирования (например начать с 0.1), потом уменьшить его в десять раз и ещё раз посчитать и так до тех пор пока отличие в ответах будет в 5-м знаке после запятой, т.е. чтобы ошибка была меньше 1e-5. Получить ответы для 3-х разных методов и сделать соответствующие выводы.  \n",
    "\n",
    "Далее необходимо сравнить полученные оценки с аналитическим решением (т.е. формульным, которое вы должны сами посчитать на листочке и вбить формулу-ответ).   \n",
    "\n",
    "В качестве интеграла взять один из следующих с номером, сгенерированным случайным образом с помощью функции np.random.randint(10), в качестве seed для генератора случайных чисел взять номер своего студенческого билета.\n",
    "\n",
    "<table width=\"80%\"\n",
    "       align=\"center\">\n",
    "    <tr>\n",
    "        <td> 0) $\\int\\limits_3^4 {\\frac{{{x^2} + 3}}{{x - 2}}dx}$ </td>\n",
    "        <td> 1) $\\int\\limits_{ - 2}^{ - 1} {\\frac{{x + 1}}{{{x^3} - {x^2}}}dx}$ </td>\n",
    "        <td> 2) $\\int\\limits_1^2 {\\frac{{{e^{1/{x^2}}}}}{{{x^3}}}dx}$ </td>\n",
    "        <td> 3) $\\int\\limits_1^e {\\frac{{\\cos (\\ln x)}}{x}dx}$ </td>\n",
    "        <td> 4) $\\int\\limits_1^e {\\frac{{dx}}{{x(1 + {{\\ln }^2}x)}}}$ </td>\n",
    "    </tr>                \n",
    "    <tr>\n",
    "        <td> 5) $\\int\\limits_0^{\\pi /2} {{{\\cos }^3}\\alpha \\;d\\alpha }$ </td>\n",
    "        <td> 6) $\\int\\limits_0^{1/3} {c{h^2}3x\\;dx}$ </td>\n",
    "        <td> 7) $\\int\\limits_2^3 {\\frac{{dy}}{{{y^2} - 2y - 8}}dy}$ </td>\n",
    "        <td> 8) $\\int\\limits_{3/4}^2 {\\frac{{dx}}{{\\sqrt {2 + 3x - 2{x^2}} }}}$ </td>\n",
    "        <td> 9) $\\int\\limits_0^2 {\\frac{{2x - 1}}{{2x + 1}}dx}$ </td>\n",
    "        </tr>\n",
    "</table>"
   ]
  },
  {
   "cell_type": "code",
   "execution_count": 132,
   "metadata": {
    "scrolled": false
   },
   "outputs": [
    {
     "name": "stdout",
     "output_type": "stream",
     "text": [
      "Вариант: 9\n"
     ]
    }
   ],
   "source": [
    "np.random.seed(1032192921)\n",
    "variant = np.random.randint(10)\n",
    "print('Вариант:', variant)"
   ]
  },
  {
   "cell_type": "code",
   "execution_count": 133,
   "metadata": {},
   "outputs": [],
   "source": [
    "def f(x):\n",
    "    return (2 * x - 1) / (2 * x + 1)"
   ]
  },
  {
   "cell_type": "code",
   "execution_count": 134,
   "metadata": {},
   "outputs": [],
   "source": [
    "def int_rectangle(f, a, b, step):\n",
    "    x = np.linspace(a, b - step, int((b - a) / step))\n",
    "    y = f(x) * step\n",
    "    return np.sum(y)"
   ]
  },
  {
   "cell_type": "code",
   "execution_count": 135,
   "metadata": {},
   "outputs": [],
   "source": [
    "def int_trapezium(f, a, b, step):\n",
    "    x = np.linspace(a, b, int((b - a) / step) + 1)\n",
    "    y = f(x[0]) + 2 * np.sum(f(x[1:-1])) + f(x[-1])\n",
    "    return y * step / 2"
   ]
  },
  {
   "cell_type": "code",
   "execution_count": 136,
   "metadata": {},
   "outputs": [],
   "source": [
    "def int_simpson(f, a, b, step):\n",
    "    x = np.linspace(a, b, int((b - a) / step) + 1)\n",
    "    y = f(x[0]) + 4 * np.sum(f(x[1:-1:2])) + 2 * np.sum(f(x[2:-1:2])) + f(x[-1])\n",
    "    return y * step / 3"
   ]
  },
  {
   "cell_type": "markdown",
   "metadata": {},
   "source": [
    "<b>Аналититическое решение:</b> $\\int\\limits_0^2 \\frac{2x-1}{2x+1} dx = \\int\\limits_0^2 (1 - \\frac{2}{2x+1})dx = \\int\\limits_0^2 dx - \\int\\limits_0^2 \\frac{d(2x)}{2x+1} = 2 - \\ln |2x + 1| |_0^2= 2 - \\ln 5 \\approx 0.390562087566$"
   ]
  },
  {
   "cell_type": "code",
   "execution_count": 138,
   "metadata": {
    "scrolled": true
   },
   "outputs": [
    {
     "name": "stdout",
     "output_type": "stream",
     "text": [
      "Метод прямоугольников: 0.39055213474369765\n",
      "Метод трапеций: 0.3905617675660328\n",
      "Метод Симпсона: 0.3905620822461698\n"
     ]
    },
    {
     "data": {
      "text/plain": [
       "'Метод Симсона требует меньше всего разбиений для достижения той же точности по сравнению с методом трапеций и прямоугольников'"
      ]
     },
     "execution_count": 138,
     "metadata": {},
     "output_type": "execute_result"
    }
   ],
   "source": [
    "print('Метод прямоугольников:', int_rectangle(f, 0, 2, 0.00001))\n",
    "print('Метод трапеций:', int_trapezium(f, 0, 2, 0.001))\n",
    "print('Метод Симпсона:', int_simpson(f, 0, 2, 0.01))\n",
    "f'Метод Симсона требует меньше всего разбиений для достижения той же точности по сравнению с методом трапеций и прямоугольников'"
   ]
  }
 ],
 "metadata": {
  "kernelspec": {
   "display_name": "Python 3",
   "language": "python",
   "name": "python3"
  },
  "language_info": {
   "codemirror_mode": {
    "name": "ipython",
    "version": 3
   },
   "file_extension": ".py",
   "mimetype": "text/x-python",
   "name": "python",
   "nbconvert_exporter": "python",
   "pygments_lexer": "ipython3",
   "version": "3.8.8"
  }
 },
 "nbformat": 4,
 "nbformat_minor": 2
}
