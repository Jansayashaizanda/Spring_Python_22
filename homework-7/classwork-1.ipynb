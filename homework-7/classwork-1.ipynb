{
 "cells": [
  {
   "cell_type": "markdown",
   "metadata": {},
   "source": [
    "<b>Обработка строк, функция map</b>\n",
    "В этом задании нельзя использовать циклы – используйте срезы, дополнительные списки, методы строк, функцию map. Для каждого упражнения написано, какое наибольшее число строк может быть в программе. Как правило, ограничения в 1-3 строки.\n",
    "\n",
    "Если программа решается в одну строку, то необходимо использовать функции внутри функций. Например, вот так можно вычислить сумму всех чисел, введенных в строку, используя стандартную функцию sum:\n",
    "print(sum(map(int, input().split())))\n",
    "\n",
    "Обратите внимание, в однострочном решении нельзя сохранять список в переменной - нужно сразу же его обработать и вывести результат.\n",
    "\n",
    "Решение в две строки, как правило, должно иметь следующий вид:\n",
    "\n",
    "A = input().split()\n",
    "\n",
    "print(' '.join(...))\n",
    "\n",
    "При этом зачастую не требуется преобразовывать элементы списка к типу int.\n",
    "\n",
    "Решение в три строки, как правило, должно иметь следующий вид:\n",
    "\n",
    "A = input().split()\n",
    "\n",
    "A = ...\n",
    "\n",
    "print(' '.join(...))\n",
    "\n",
    "\n",
    "    Задача Комментарии Ввод Вывод Баллы\n",
    "\n",
    "1 | Четные индексы | Решите эту задачу в одну строку | 1 2 3 4 5 | 1 3 5 | 1\n",
    "\n",
    "2 | Наибольший элемент и его индекс | Решите эту задачу в две строки | 1 2 3 2 1 | 3 2 | 1\n",
    "\n",
    "3 | Вывести в обратном порядке | Решите эту задачу в одну строку |1 2 3 4 5 | 5 4 3 2 1 | 1\n",
    "\n",
    "4 | Переставить соседние | Решите эту задачу в три строки | 1 2 3 4 5 | 2 1 4 3 5 | 5\n",
    "\n",
    "5 | Циклический сдвиг вправо | Решите эту задачу в две строки | 1 2 3 4 5 | 5 1 2 3 4 | 1\n",
    "\n",
    "6 | Удалить элемент | Решите эту задачу в три строки | 7 6 5 4 3 2 1, 2 | 7 6 4 3 2 1 |1\n",
    "\n",
    "7 | Вставить элемент | Решите эту задачу в три строки, Вторая строка — такая: n, elem = map(int, input().split()) | 7 6 5 4 3 2 1, 2 0 | 7 6 0 5 4 3 2 1 | 1\n",
    "\n",
    "8 | Большой сдвиг | Решите эту задачу в две строки | 5 3 7 4 6, 3 | 7 4 6 5 3 | 1"
   ]
  },
  {
   "cell_type": "code",
   "execution_count": 12,
   "metadata": {},
   "outputs": [
    {
     "name": "stdout",
     "output_type": "stream",
     "text": [
      "1 2 3 4 5\n",
      "1 3 5\n"
     ]
    }
   ],
   "source": [
    "#1\n",
    "print(' '.join(input().split()[::2]))"
   ]
  },
  {
   "cell_type": "code",
   "execution_count": 11,
   "metadata": {},
   "outputs": [
    {
     "name": "stdout",
     "output_type": "stream",
     "text": [
      "1 2 3 2 1\n",
      "3 2\n"
     ]
    }
   ],
   "source": [
    "#2\n",
    "A = list(map(int, input().split()))\n",
    "print(max(A), A.index(max(A)))"
   ]
  },
  {
   "cell_type": "code",
   "execution_count": 13,
   "metadata": {},
   "outputs": [
    {
     "name": "stdout",
     "output_type": "stream",
     "text": [
      "1 2 3 4 5\n",
      "5 4 3 2 1\n"
     ]
    }
   ],
   "source": [
    "#3\n",
    "print(' '.join(input().split()[::-1]))"
   ]
  },
  {
   "cell_type": "code",
   "execution_count": 17,
   "metadata": {},
   "outputs": [
    {
     "name": "stdout",
     "output_type": "stream",
     "text": [
      "1 2 3 4 5\n",
      "2 1 4 3 5\n"
     ]
    }
   ],
   "source": [
    "#4\n",
    "A = input().split()\n",
    "A[:-1:2], A[1::2] = A[1::2], A[:-1:2]\n",
    "print(' '.join(A))"
   ]
  },
  {
   "cell_type": "code",
   "execution_count": 18,
   "metadata": {},
   "outputs": [
    {
     "name": "stdout",
     "output_type": "stream",
     "text": [
      "1 2 3 4 5\n",
      "2 3 4 5 1\n"
     ]
    }
   ],
   "source": [
    "#5\n",
    "A = input().split()\n",
    "print(' '.join(A[1:]), A[0])"
   ]
  },
  {
   "cell_type": "code",
   "execution_count": 21,
   "metadata": {},
   "outputs": [
    {
     "name": "stdout",
     "output_type": "stream",
     "text": [
      "7 6 5 4 3 2 1\n",
      "2\n",
      "7 6 4 3 2 1\n"
     ]
    }
   ],
   "source": [
    "#6\n",
    "A = input().split()\n",
    "b = int(input())\n",
    "print(*A[:b], *A[b + 1:])"
   ]
  },
  {
   "cell_type": "code",
   "execution_count": 23,
   "metadata": {},
   "outputs": [
    {
     "name": "stdout",
     "output_type": "stream",
     "text": [
      "7 6 5 4 3 2 1\n",
      "2 0\n",
      "7 6 0 5 4 3 2 1\n"
     ]
    }
   ],
   "source": [
    "#7\n",
    "A = input().split()\n",
    "n, elem = map(int, input().split())\n",
    "print(*A[:n], elem, *A[n:])"
   ]
  },
  {
   "cell_type": "code",
   "execution_count": 28,
   "metadata": {},
   "outputs": [
    {
     "name": "stdout",
     "output_type": "stream",
     "text": [
      "5 3 7 4 6\n",
      "3\n",
      "7 4 6 5 3\n"
     ]
    }
   ],
   "source": [
    "#8\n",
    "A, b = input().split(), int(input())\n",
    "print(' '.join(A[b - 1:] + A[:b - 1]))"
   ]
  }
 ],
 "metadata": {
  "kernelspec": {
   "display_name": "Python 3",
   "language": "python",
   "name": "python3"
  },
  "language_info": {
   "codemirror_mode": {
    "name": "ipython",
    "version": 3
   },
   "file_extension": ".py",
   "mimetype": "text/x-python",
   "name": "python",
   "nbconvert_exporter": "python",
   "pygments_lexer": "ipython3",
   "version": "3.8.8"
  }
 },
 "nbformat": 4,
 "nbformat_minor": 2
}
